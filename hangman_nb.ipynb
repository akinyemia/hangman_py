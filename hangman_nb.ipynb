{
 "cells": [
  {
   "cell_type": "code",
   "execution_count": 7,
   "metadata": {},
   "outputs": [],
   "source": [
    "import time \n",
    "import pandas as pd \n",
    "import random\n",
    "import os "
   ]
  },
  {
   "cell_type": "code",
   "execution_count": 17,
   "metadata": {},
   "outputs": [],
   "source": [
    "wordlist = []\n",
    "wl = open('./resource/wordlist.txt', 'r')\n",
    "for w in wl: \n",
    "    wordlist.append(w.replace('\\n', ''))\n"
   ]
  },
  {
   "cell_type": "code",
   "execution_count": 16,
   "metadata": {},
   "outputs": [
    {
     "name": "stdout",
     "output_type": "stream",
     "text": [
      "appraisal\n"
     ]
    }
   ],
   "source": [
    "\n",
    "print(wordlist[random.randint(0, len(wordlist))])"
   ]
  },
  {
   "cell_type": "code",
   "execution_count": null,
   "metadata": {},
   "outputs": [],
   "source": [
    "def hangman():\n",
    "    word = ''\n",
    "    lost = False\n",
    "    won = False\n",
    "    win = 0\n",
    "    loss = 0\n",
    "    guess = ''\n",
    "    strike = 0\n",
    "    tree = [ '0', '/', '|', '\\\\', '/', '\\\\' ]\n",
    "    attempts = []\n",
    "    pts = []\n",
    "    rack = []\n",
    "\n",
    "\n",
    "    def hangman(): \n",
    "        strike = 0\n",
    "        pts = ['']*6\n",
    "        get_word()\n",
    "        rack = ['_']*len(word)\n",
    "\n",
    "    def get_word(): \n",
    "        word = wordlist[random.randint(0, len(wordlist))]\n",
    "\n",
    "    def print_table(): \n",
    "        print(rack)\n",
    "\n",
    "    def get_input\n",
    "\n",
    "    def update_screen():\n",
    "        pass\n",
    "\n",
    "    def run():\n",
    "        pass\n",
    "\n",
    "    "
   ]
  }
 ],
 "metadata": {
  "kernelspec": {
   "display_name": "Python 3",
   "language": "python",
   "name": "python3"
  },
  "language_info": {
   "codemirror_mode": {
    "name": "ipython",
    "version": 3
   },
   "file_extension": ".py",
   "mimetype": "text/x-python",
   "name": "python",
   "nbconvert_exporter": "python",
   "pygments_lexer": "ipython3",
   "version": "3.11.3"
  },
  "orig_nbformat": 4
 },
 "nbformat": 4,
 "nbformat_minor": 2
}
